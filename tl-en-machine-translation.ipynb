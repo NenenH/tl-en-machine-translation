{
 "cells": [
  {
   "cell_type": "code",
   "execution_count": 1,
   "metadata": {},
   "outputs": [
    {
     "name": "stderr",
     "output_type": "stream",
     "text": [
      "Using TensorFlow backend.\n"
     ]
    }
   ],
   "source": [
    "######################################################################################################\n",
    "import re\n",
    "import numpy as np\n",
    "from numpy.random import shuffle\n",
    "from keras.preprocessing.text import Tokenizer\n",
    "from keras.preprocessing.sequence import pad_sequences\n",
    "from keras.utils import to_categorical\n",
    "######################################################################################################"
   ]
  },
  {
   "cell_type": "code",
   "execution_count": 3,
   "metadata": {},
   "outputs": [
    {
     "data": {
      "text/plain": [
       "array([['who', 'sino'],\n",
       "       ['hello', 'kamusta'],\n",
       "       ['i try', 'sinusubukan ko'],\n",
       "       ...,\n",
       "       ['no matter what your profession or how happy you may be in it there are moments when you wish you had chosen some other career',\n",
       "        'kahit anong trabaho mo o kahit gaano ka kasaya dito may mga pagkakataon na naiisip mo na sana ibang trabaho na lang ang pinili mo'],\n",
       "       ['she has a boyfriend shes been going out with since high school but she feels their relationship has stagnated so shes become dissatisfied',\n",
       "        'high school pa lamang ay sila na ng kasintahan niya ngunit nararamdaman niya na wala nang nangyayari sa pagsasama nila kaya hindi na siya masaya'],\n",
       "       ['no matter how much you try to convince people that chocolate is vanilla itll still be chocolate even though you may manage to convince yourself and a few others that its vanilla',\n",
       "        'kahit ano pang gawin mo para kumbinsihin ang mga tao na ang tsokolate ay vanilla tsokolate pa rin ito kahit pa makumbinsi mo ang sarili mo at ang ilang tao na vanilla ito']],\n",
       "      dtype='<U177')"
      ]
     },
     "execution_count": 3,
     "metadata": {},
     "output_type": "execute_result"
    }
   ],
   "source": [
    "######################################################################################################\n",
    "def load_text(file):\n",
    "    with open(file, mode='rt', encoding='utf-8') as f:\n",
    "        text = f.read().split('\\n')\n",
    "        return np.array([pair.split('\\t') for pair in text])\n",
    "######################################################################################################\n",
    "def clean_text(text):\n",
    "    text = np.char.lower(text)\n",
    "    text = np.vectorize(re.sub)('[^a-z ]', '', text)\n",
    "    return text\n",
    "######################################################################################################\n",
    "text = load_text('tl_en.txt')\n",
    "clean_text = clean_text(text)\n",
    "clean_text"
   ]
  },
  {
   "cell_type": "code",
   "execution_count": 4,
   "metadata": {},
   "outputs": [],
   "source": []
  }
 ],
 "metadata": {
  "kernelspec": {
   "display_name": "Python 3",
   "language": "python",
   "name": "python3"
  },
  "language_info": {
   "codemirror_mode": {
    "name": "ipython",
    "version": 3
   },
   "file_extension": ".py",
   "mimetype": "text/x-python",
   "name": "python",
   "nbconvert_exporter": "python",
   "pygments_lexer": "ipython3",
   "version": "3.7.4"
  }
 },
 "nbformat": 4,
 "nbformat_minor": 2
}
